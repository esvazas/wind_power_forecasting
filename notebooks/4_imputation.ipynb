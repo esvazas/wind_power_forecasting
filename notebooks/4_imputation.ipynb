{
 "cells": [
  {
   "cell_type": "code",
   "execution_count": 1,
   "id": "elect-aging",
   "metadata": {},
   "outputs": [],
   "source": [
    "import os\n",
    "import datetime\n",
    "from tqdm import tqdm\n",
    "from itertools import groupby\n",
    "from operator import itemgetter\n",
    "import numpy as np\n",
    "import pandas as pd\n",
    "import matplotlib.pyplot as plt\n",
    "\n",
    "from sklearn.preprocessing import MinMaxScaler\n",
    "from sklearn.metrics import mean_absolute_error, mean_squared_error\n",
    "from sklearn.experimental import enable_iterative_imputer\n",
    "from sklearn.impute import IterativeImputer\n",
    "from sklearn.linear_model import BayesianRidge\n",
    "from sklearn.tree import DecisionTreeRegressor\n",
    "from sklearn.ensemble import ExtraTreesRegressor\n",
    "from sklearn.neighbors import KNeighborsRegressor\n",
    "\n",
    "from solver.processing import read_dataset"
   ]
  },
  {
   "cell_type": "code",
   "execution_count": 2,
   "id": "herbal-benchmark",
   "metadata": {},
   "outputs": [],
   "source": [
    "# define features to impute\n",
    "features_impute = [\n",
    "    'P_avg',\n",
    "    'Ws_avg',\n",
    "    'Ot_avg',\n",
    "    'Wa_avg',\n",
    "    'Ya_avg',\n",
    "    'Ba_avg',\n",
    "    'tempC',\n",
    "    'precipMM',\n",
    "    'humidity',\n",
    "    'cloudcover',\n",
    "    'windspeedKmph',\n",
    "    'windspeedKmph_scaled',\n",
    "    'tempC_scaled',\n",
    "    'Day sin',\n",
    "    'Day cos',\n",
    "    'Year sin',\n",
    "    'Year cos'\n",
    "]"
   ]
  },
  {
   "cell_type": "code",
   "execution_count": 3,
   "id": "d4f3f429",
   "metadata": {},
   "outputs": [],
   "source": [
    "TURBINE_ID = 'R80711'\n",
    "DATA_DIR = '../datasets/after_feature_engineering'"
   ]
  },
  {
   "cell_type": "code",
   "execution_count": 4,
   "id": "55c9f716",
   "metadata": {},
   "outputs": [],
   "source": [
    "# define datasets\n",
    "data_link = os.path.join(DATA_DIR, 'turbine_{}.csv'.format(TURBINE_ID))\n",
    "# read datasets\n",
    "dataset = read_dataset(data_link)"
   ]
  },
  {
   "cell_type": "code",
   "execution_count": 5,
   "id": "packed-marker",
   "metadata": {},
   "outputs": [],
   "source": [
    "def drop_duplicates(df):\n",
    "    print(\"Number of duplicates: {}\".format(len(df.index[df.index.duplicated()].unique())))\n",
    "    return df[~df.index.duplicated(keep='first')]"
   ]
  },
  {
   "cell_type": "code",
   "execution_count": 6,
   "id": "naked-setup",
   "metadata": {},
   "outputs": [
    {
     "name": "stdout",
     "output_type": "stream",
     "text": [
      "Number of duplicates: 0\n"
     ]
    }
   ],
   "source": [
    "# Drop duplicated timesteps\n",
    "dataset = dataset[features_impute+['Date_time']].copy()\n",
    "dataset = drop_duplicates(dataset)"
   ]
  },
  {
   "cell_type": "code",
   "execution_count": 7,
   "id": "clean-parker",
   "metadata": {},
   "outputs": [
    {
     "name": "stdout",
     "output_type": "stream",
     "text": [
      "Missing data percent: 3.80613%\n"
     ]
    }
   ],
   "source": [
    "# Check how many missing data exists\n",
    "missing_idx = np.array(dataset[dataset.isnull().any(axis=1)].index)\n",
    "print(\"Missing data percent: {}%\".format(np.round(missing_idx.shape[0]/dataset.shape[0]*100, 5)))"
   ]
  },
  {
   "cell_type": "code",
   "execution_count": 8,
   "id": "knowing-responsibility",
   "metadata": {},
   "outputs": [],
   "source": [
    "missing_mask = dataset.index.isin(missing_idx)\n",
    "dataset_only_missing = dataset.loc[missing_mask]"
   ]
  },
  {
   "cell_type": "code",
   "execution_count": 9,
   "id": "consolidated-growing",
   "metadata": {},
   "outputs": [],
   "source": [
    "# Find runs of consecutive numbers using groupby.  The key to the solution\n",
    "# is differencing with a range so that consecutive numbers all appear in\n",
    "# same group.\n",
    "\n",
    "data_split = []\n",
    "count = []\n",
    "indices = []\n",
    "\n",
    "data = dataset_only_missing.index\n",
    "for k, g in groupby(enumerate(data), lambda i_x: i_x[0] - i_x[1]):\n",
    "    group = list(map(itemgetter(1), g))\n",
    "    min_el, max_el, size = min(group), max(group), len(group)\n",
    "    date_1 = dataset_only_missing.loc[min_el, 'Date_time'].strftime(\"%Y-%m-%d %H:%M\")\n",
    "    data_2 = dataset_only_missing.loc[max_el, 'Date_time'].strftime(\"%Y-%m-%d %H:%M\")\n",
    "    data_split.append('{}, {}'.format(date_1, data_2))\n",
    "    count.append(size)\n",
    "    indices.append([min_el, max_el])"
   ]
  },
  {
   "cell_type": "code",
   "execution_count": 10,
   "id": "collect-colors",
   "metadata": {},
   "outputs": [],
   "source": [
    "# Indices representing missing values\n",
    "count = np.array(count)\n",
    "indices = np.array(indices)\n",
    "data_split = np.array(data_split)\n",
    "indices_to_test = indices[count >= 1]\n",
    "data_split_plot = data_split[count >= 1]\n",
    "count_plot = count[count >= 1]"
   ]
  },
  {
   "cell_type": "code",
   "execution_count": 11,
   "id": "about-campus",
   "metadata": {},
   "outputs": [
    {
     "data": {
      "image/png": "[encoded data removed]",
      "text/plain": [
       "<Figure size 576x360 with 1 Axes>"
      ]
     },
     "metadata": {
      "needs_background": "light"
     },
     "output_type": "display_data"
    }
   ],
   "source": [
    "plt.figure(figsize=(8,5))\n",
    "plt.bar(data_split_plot, count_plot)\n",
    "plt.xticks(rotation='vertical', fontsize=2)\n",
    "plt.ylabel(\"Number of subsequent samples\")\n",
    "plt.axhline(y=1, color='r', linestyle='--', linewidth=1)\n",
    "plt.tight_layout()\n",
    "#plt.savefig(\"non_missing_samples_len_1.pdf\", dpi=450)\n",
    "plt.show()"
   ]
  },
  {
   "cell_type": "code",
   "execution_count": 12,
   "id": "ongoing-treasury",
   "metadata": {},
   "outputs": [],
   "source": [
    "# define a number when interpolation process changes to different one\n",
    "CHANGE_INTERPOLATION_NUM = 8\n",
    "\n",
    "# create mask for two interpolation methodologies\n",
    "linear_mask = np.zeros(dataset.shape[0]).astype(bool)\n",
    "tree_mask = np.zeros(dataset.shape[0]).astype(bool)\n",
    "for idx in indices_to_test:\n",
    "    if idx[1] - idx[0] + 1 > CHANGE_INTERPOLATION_NUM:\n",
    "        # do tree interpolation\n",
    "        tree_mask[idx[0]:idx[1]+1] = True\n",
    "    else:\n",
    "        # do linear interpolation\n",
    "        linear_mask[idx[0]:idx[1]+1] = True"
   ]
  },
  {
   "cell_type": "code",
   "execution_count": 13,
   "id": "creative-extension",
   "metadata": {},
   "outputs": [],
   "source": [
    "# Perform linear interpolation for short sequences of missing values\n",
    "dataset_cp = dataset.copy()\n",
    "dataset_cp.loc[linear_mask, 'P_avg'] = dataset[['P_avg']].interpolate('linear')[linear_mask]\n",
    "dataset_cp.loc[linear_mask, 'Ws_avg'] = dataset[['Ws_avg']].interpolate('linear')[linear_mask]\n",
    "dataset_cp.loc[linear_mask, 'Ot_avg'] = dataset[['Ot_avg']].interpolate('linear')[linear_mask]\n",
    "dataset_cp.loc[linear_mask, 'Wa_avg'] = dataset[['Wa_avg']].interpolate('linear')[linear_mask]\n",
    "dataset_cp.loc[linear_mask, 'Ya_avg'] = dataset[['Ya_avg']].interpolate('linear')[linear_mask]\n",
    "dataset_cp.loc[linear_mask, 'Ba_avg'] = dataset[['Ba_avg']].interpolate('linear')[linear_mask]"
   ]
  },
  {
   "cell_type": "code",
   "execution_count": 14,
   "id": "stylish-hepatitis",
   "metadata": {},
   "outputs": [
    {
     "name": "stderr",
     "output_type": "stream",
     "text": [
      "\r",
      "0it [00:00, ?it/s]"
     ]
    },
    {
     "name": "stdout",
     "output_type": "stream",
     "text": [
      "Index(['P_avg', 'tempC', 'precipMM', 'humidity', 'cloudcover', 'windspeedKmph',\n",
      "       'windspeedKmph_scaled', 'tempC_scaled', 'Day sin', 'Day cos',\n",
      "       'Year sin', 'Year cos'],\n",
      "      dtype='object')\n",
      "[IterativeImputer] Completing matrix with shape (43824, 12)\n",
      "[IterativeImputer] Change: 1202.1448792098536, scaled tolerance: 2.0501350166666668 \n",
      "[IterativeImputer] Change: 257.1449467195922, scaled tolerance: 2.0501350166666668 \n",
      "[IterativeImputer] Change: 167.30335931991226, scaled tolerance: 2.0501350166666668 \n",
      "[IterativeImputer] Change: 317.65944602570517, scaled tolerance: 2.0501350166666668 \n",
      "[IterativeImputer] Change: 219.77922563510936, scaled tolerance: 2.0501350166666668 \n",
      "[IterativeImputer] Change: 214.4584548987906, scaled tolerance: 2.0501350166666668 \n",
      "[IterativeImputer] Change: 170.98222494813638, scaled tolerance: 2.0501350166666668 \n",
      "[IterativeImputer] Change: 245.59018445219363, scaled tolerance: 2.0501350166666668 \n",
      "[IterativeImputer] Change: 175.68728238033623, scaled tolerance: 2.0501350166666668 \n",
      "[IterativeImputer] Change: 155.20345219983346, scaled tolerance: 2.0501350166666668 \n"
     ]
    },
    {
     "name": "stderr",
     "output_type": "stream",
     "text": [
      "/Users/macbook/opt/anaconda3/envs/wind_power37/lib/python3.7/site-packages/sklearn/impute/_iterative.py:686: ConvergenceWarning: [IterativeImputer] Early stopping criterion not reached.\n",
      "  \" reached.\", ConvergenceWarning)\n"
     ]
    },
    {
     "name": "stdout",
     "output_type": "stream",
     "text": [
      "[IterativeImputer] Completing matrix with shape (43824, 12)\n"
     ]
    },
    {
     "name": "stderr",
     "output_type": "stream",
     "text": [
      "\r",
      "1it [20:33, 1233.67s/it]"
     ]
    },
    {
     "name": "stdout",
     "output_type": "stream",
     "text": [
      "Index(['Ws_avg', 'tempC', 'precipMM', 'humidity', 'cloudcover',\n",
      "       'windspeedKmph', 'windspeedKmph_scaled', 'tempC_scaled', 'Day sin',\n",
      "       'Day cos', 'Year sin', 'Year cos'],\n",
      "      dtype='object')\n",
      "[IterativeImputer] Completing matrix with shape (43824, 12)\n",
      "[IterativeImputer] Change: 5.850503217620698, scaled tolerance: 0.1 \n",
      "[IterativeImputer] Change: 0.7277500080000046, scaled tolerance: 0.1 \n",
      "[IterativeImputer] Change: 0.9248599994399971, scaled tolerance: 0.1 \n",
      "[IterativeImputer] Change: 0.848749997166669, scaled tolerance: 0.1 \n",
      "[IterativeImputer] Change: 1.0573833465633342, scaled tolerance: 0.1 \n",
      "[IterativeImputer] Change: 0.9909500115000043, scaled tolerance: 0.1 \n",
      "[IterativeImputer] Change: 0.857790037166664, scaled tolerance: 0.1 \n",
      "[IterativeImputer] Change: 0.7337000119166648, scaled tolerance: 0.1 \n",
      "[IterativeImputer] Change: 0.7760799939999998, scaled tolerance: 0.1 \n",
      "[IterativeImputer] Change: 0.7091899968500011, scaled tolerance: 0.1 \n"
     ]
    },
    {
     "name": "stderr",
     "output_type": "stream",
     "text": [
      "/Users/macbook/opt/anaconda3/envs/wind_power37/lib/python3.7/site-packages/sklearn/impute/_iterative.py:686: ConvergenceWarning: [IterativeImputer] Early stopping criterion not reached.\n",
      "  \" reached.\", ConvergenceWarning)\n"
     ]
    },
    {
     "name": "stdout",
     "output_type": "stream",
     "text": [
      "[IterativeImputer] Completing matrix with shape (43824, 12)\n"
     ]
    },
    {
     "name": "stderr",
     "output_type": "stream",
     "text": [
      "\r",
      "2it [40:35, 1214.79s/it]"
     ]
    },
    {
     "name": "stdout",
     "output_type": "stream",
     "text": [
      "Index(['Ot_avg', 'tempC', 'precipMM', 'humidity', 'cloudcover',\n",
      "       'windspeedKmph', 'windspeedKmph_scaled', 'tempC_scaled', 'Day sin',\n",
      "       'Day cos', 'Year sin', 'Year cos'],\n",
      "      dtype='object')\n",
      "[IterativeImputer] Completing matrix with shape (43824, 12)\n",
      "[IterativeImputer] Change: 20.77883744458436, scaled tolerance: 0.1 \n",
      "[IterativeImputer] Change: 1.326768346416669, scaled tolerance: 0.1 \n",
      "[IterativeImputer] Change: 1.4017611111266666, scaled tolerance: 0.1 \n",
      "[IterativeImputer] Change: 1.2352166580000006, scaled tolerance: 0.1 \n",
      "[IterativeImputer] Change: 2.0422516775000013, scaled tolerance: 0.1 \n",
      "[IterativeImputer] Change: 1.5303833367499937, scaled tolerance: 0.1 \n",
      "[IterativeImputer] Change: 1.0831052071047642, scaled tolerance: 0.1 \n",
      "[IterativeImputer] Change: 0.9992366399999923, scaled tolerance: 0.1 \n",
      "[IterativeImputer] Change: 1.3324333155000065, scaled tolerance: 0.1 \n",
      "[IterativeImputer] Change: 1.298241694833333, scaled tolerance: 0.1 \n",
      "[IterativeImputer] Completing matrix with shape (43824, 12)\n"
     ]
    },
    {
     "name": "stderr",
     "output_type": "stream",
     "text": [
      "/Users/macbook/opt/anaconda3/envs/wind_power37/lib/python3.7/site-packages/sklearn/impute/_iterative.py:686: ConvergenceWarning: [IterativeImputer] Early stopping criterion not reached.\n",
      "  \" reached.\", ConvergenceWarning)\n",
      "3it [58:04, 1138.99s/it]"
     ]
    },
    {
     "name": "stdout",
     "output_type": "stream",
     "text": [
      "Index(['Wa_avg', 'tempC', 'precipMM', 'humidity', 'cloudcover',\n",
      "       'windspeedKmph', 'windspeedKmph_scaled', 'tempC_scaled', 'Day sin',\n",
      "       'Day cos', 'Year sin', 'Year cos'],\n",
      "      dtype='object')\n",
      "[IterativeImputer] Completing matrix with shape (43824, 12)\n",
      "[IterativeImputer] Change: 2.3902600072389317, scaled tolerance: 0.1 \n",
      "[IterativeImputer] Change: 0.7390284137405834, scaled tolerance: 0.1 \n",
      "[IterativeImputer] Change: 0.8091497106230605, scaled tolerance: 0.1 \n",
      "[IterativeImputer] Change: 0.756558054534409, scaled tolerance: 0.1 \n",
      "[IterativeImputer] Change: 0.977499568027437, scaled tolerance: 0.1 \n",
      "[IterativeImputer] Change: 0.9040488461197427, scaled tolerance: 0.1 \n",
      "[IterativeImputer] Change: 1.025118642895369, scaled tolerance: 0.1 \n",
      "[IterativeImputer] Change: 0.9841323172822354, scaled tolerance: 0.1 \n",
      "[IterativeImputer] Change: 0.7999690546526397, scaled tolerance: 0.1 \n",
      "[IterativeImputer] Change: 0.9771419315428533, scaled tolerance: 0.1 \n",
      "[IterativeImputer] Completing matrix with shape (43824, 12)\n"
     ]
    },
    {
     "name": "stderr",
     "output_type": "stream",
     "text": [
      "/Users/macbook/opt/anaconda3/envs/wind_power37/lib/python3.7/site-packages/sklearn/impute/_iterative.py:686: ConvergenceWarning: [IterativeImputer] Early stopping criterion not reached.\n",
      "  \" reached.\", ConvergenceWarning)\n",
      "4it [1:16:56, 1136.48s/it]"
     ]
    },
    {
     "name": "stdout",
     "output_type": "stream",
     "text": [
      "Index(['Ya_avg', 'tempC', 'precipMM', 'humidity', 'cloudcover',\n",
      "       'windspeedKmph', 'windspeedKmph_scaled', 'tempC_scaled', 'Day sin',\n",
      "       'Day cos', 'Year sin', 'Year cos'],\n",
      "      dtype='object')\n",
      "[IterativeImputer] Completing matrix with shape (43824, 12)\n",
      "[IterativeImputer] Change: 2.4852896607715116, scaled tolerance: 0.1 \n",
      "[IterativeImputer] Change: 0.9431407463615145, scaled tolerance: 0.1 \n",
      "[IterativeImputer] Change: 0.8293249060078471, scaled tolerance: 0.1 \n",
      "[IterativeImputer] Change: 0.864291699429502, scaled tolerance: 0.1 \n",
      "[IterativeImputer] Change: 0.7627219894824626, scaled tolerance: 0.1 \n",
      "[IterativeImputer] Change: 0.8491980930679284, scaled tolerance: 0.1 \n",
      "[IterativeImputer] Change: 1.0463917939885508, scaled tolerance: 0.1 \n",
      "[IterativeImputer] Change: 0.8869521399692246, scaled tolerance: 0.1 \n",
      "[IterativeImputer] Change: 1.1329109570251235, scaled tolerance: 0.1 \n",
      "[IterativeImputer] Change: 0.7376270998608216, scaled tolerance: 0.1 \n"
     ]
    },
    {
     "name": "stderr",
     "output_type": "stream",
     "text": [
      "/Users/macbook/opt/anaconda3/envs/wind_power37/lib/python3.7/site-packages/sklearn/impute/_iterative.py:686: ConvergenceWarning: [IterativeImputer] Early stopping criterion not reached.\n",
      "  \" reached.\", ConvergenceWarning)\n"
     ]
    },
    {
     "name": "stdout",
     "output_type": "stream",
     "text": [
      "[IterativeImputer] Completing matrix with shape (43824, 12)\n"
     ]
    },
    {
     "name": "stderr",
     "output_type": "stream",
     "text": [
      "\r",
      "5it [1:41:53, 1266.38s/it]"
     ]
    },
    {
     "name": "stdout",
     "output_type": "stream",
     "text": [
      "Index(['Ba_avg', 'tempC', 'precipMM', 'humidity', 'cloudcover',\n",
      "       'windspeedKmph', 'windspeedKmph_scaled', 'tempC_scaled', 'Day sin',\n",
      "       'Day cos', 'Year sin', 'Year cos'],\n",
      "      dtype='object')\n",
      "[IterativeImputer] Completing matrix with shape (43824, 12)\n",
      "[IterativeImputer] Change: 1.0060709364092775, scaled tolerance: 0.1 \n",
      "[IterativeImputer] Change: 0.257293387790003, scaled tolerance: 0.1 \n",
      "[IterativeImputer] Change: 0.24023016989393142, scaled tolerance: 0.1 \n",
      "[IterativeImputer] Change: 0.2358690304515525, scaled tolerance: 0.1 \n",
      "[IterativeImputer] Change: 0.26799007601718866, scaled tolerance: 0.1 \n",
      "[IterativeImputer] Change: 0.1814454460744924, scaled tolerance: 0.1 \n",
      "[IterativeImputer] Change: 0.19087528259405584, scaled tolerance: 0.1 \n",
      "[IterativeImputer] Change: 0.1863029869694458, scaled tolerance: 0.1 \n",
      "[IterativeImputer] Change: 0.2006093069294963, scaled tolerance: 0.1 \n",
      "[IterativeImputer] Change: 0.20535194106842614, scaled tolerance: 0.1 \n",
      "[IterativeImputer] Completing matrix with shape (43824, 12)\n"
     ]
    },
    {
     "name": "stderr",
     "output_type": "stream",
     "text": [
      "/Users/macbook/opt/anaconda3/envs/wind_power37/lib/python3.7/site-packages/sklearn/impute/_iterative.py:686: ConvergenceWarning: [IterativeImputer] Early stopping criterion not reached.\n",
      "  \" reached.\", ConvergenceWarning)\n",
      "6it [2:07:04, 1270.78s/it]\n"
     ]
    }
   ],
   "source": [
    "# Perform tree interpolation, column by column\n",
    "# define columns to impute\n",
    "columns = ['P_avg', 'Ws_avg', 'Ot_avg', 'Wa_avg', 'Ya_avg', 'Ba_avg']\n",
    "dataset_cp2 = dataset_cp.copy()\n",
    "minimums = dataset_cp2.min().values[:len(columns)]\n",
    "\n",
    "#dataset_cp3 = dataset_cp2.copy()\n",
    "for idx, (col, min_value) in tqdm(enumerate(zip(columns, minimums))):\n",
    "    # define imputer for each column with different minimum values\n",
    "    imputer = IterativeImputer(\n",
    "        max_iter=10,\n",
    "        initial_strategy='mean',\n",
    "        min_value=min_value,\n",
    "        estimator=ExtraTreesRegressor(n_estimators=100),\n",
    "        verbose=1\n",
    "    )\n",
    "\n",
    "    dataset_cp22 = dataset_cp2.copy()\n",
    "    columns_to_drop = columns.copy()\n",
    "    # remove other numerical variables with nan to fit imputer for a single variable\n",
    "    del columns_to_drop[idx]\n",
    "    columns_to_drop.append('Date_time')\n",
    "    dataset_cp22.drop(columns_to_drop, axis=1, inplace=True)\n",
    "    # fit imputer\n",
    "    print(dataset_cp22.columns)\n",
    "    imputer.fit(dataset_cp22)\n",
    "    imputed = imputer.transform(dataset_cp22)[:,0]\n",
    "    dataset_cp2.iloc[:, idx] = imputed"
   ]
  },
  {
   "cell_type": "code",
   "execution_count": 15,
   "id": "honey-album",
   "metadata": {},
   "outputs": [
    {
     "data": {
      "text/plain": [
       "<AxesSubplot:>"
      ]
     },
     "execution_count": 15,
     "metadata": {},
     "output_type": "execute_result"
    },
    {
     "data": {
      "image/png": "[encoded data removed]",
      "text/plain": [
       "<Figure size 432x288 with 1 Axes>"
      ]
     },
     "metadata": {
      "needs_background": "light"
     },
     "output_type": "display_data"
    }
   ],
   "source": [
    "dataset_cp2.loc[:1000,'P_avg'].plot()"
   ]
  },
  {
   "cell_type": "code",
   "execution_count": 16,
   "id": "interracial-hearts",
   "metadata": {},
   "outputs": [],
   "source": [
    "dataset_cp2_save = dataset_cp2[['Date_time','P_avg', 'Ws_avg', 'Ot_avg', 'Wa_avg', 'Ya_avg', 'Ba_avg', 'Day sin', 'Day cos', 'Year sin', 'Year cos']].copy()"
   ]
  },
  {
   "cell_type": "code",
   "execution_count": 18,
   "id": "abandoned-chosen",
   "metadata": {},
   "outputs": [],
   "source": [
    "PATH_TO_DIR = '../datasets/after_imputation'\n",
    "\n",
    "if not os.path.exists(PATH_TO_DIR):\n",
    "    os.makedirs(PATH_TO_DIR)\n",
    "    \n",
    "\n",
    "PATH_TO_SAVE = os.path.join(PATH_TO_DIR, 'turbine_{}.csv'.format(TURBINE_ID))\n",
    "dataset_cp2_save.to_csv(PATH_TO_SAVE, sep='\\t', index=False, encoding='utf-8')"
   ]
  },
  {
   "cell_type": "code",
   "execution_count": null,
   "id": "b9e85268",
   "metadata": {},
   "outputs": [],
   "source": []
  }
 ],
 "metadata": {
  "kernelspec": {
   "display_name": "Python 3",
   "language": "python",
   "name": "python3"
  },
  "language_info": {
   "codemirror_mode": {
    "name": "ipython",
    "version": 3
   },
   "file_extension": ".py",
   "mimetype": "text/x-python",
   "name": "python",
   "nbconvert_exporter": "python",
   "pygments_lexer": "ipython3",
   "version": "3.7.10"
  }
 },
 "nbformat": 4,
 "nbformat_minor": 5
}
