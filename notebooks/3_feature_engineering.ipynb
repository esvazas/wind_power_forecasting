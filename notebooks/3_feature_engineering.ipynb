{
 "cells": [
  {
   "cell_type": "code",
   "execution_count": 13,
   "id": "2aef3b87",
   "metadata": {},
   "outputs": [],
   "source": [
    "import os\n",
    "import datetime\n",
    "import numpy as np\n",
    "import pandas as pd\n",
    "import matplotlib.pyplot as plt\n",
    "\n",
    "from solver.processing import read_datasets\n",
    "from sklearn.preprocessing import MinMaxScaler"
   ]
  },
  {
   "cell_type": "code",
   "execution_count": 14,
   "id": "e9d067cb",
   "metadata": {},
   "outputs": [],
   "source": [
    "TURBINE_ID = 'R80711'\n",
    "WEATHER_DIR = '../datasets/weather_data/'\n",
    "TURBINE_DIR = '../datasets/after_analysis/'"
   ]
  },
  {
   "cell_type": "code",
   "execution_count": 15,
   "id": "7f3fbf1f",
   "metadata": {},
   "outputs": [],
   "source": [
    "# define datasets\n",
    "weather_link = os.path.join(WEATHER_DIR, 'weather_parameters.csv')\n",
    "data_link = os.path.join(TURBINE_DIR, 'turbine_{}.csv'.format(TURBINE_ID))\n",
    "\n",
    "# read datasets\n",
    "weather_data, turbine_data = read_datasets(data_link, weather_link)"
   ]
  },
  {
   "cell_type": "code",
   "execution_count": 16,
   "id": "389f64fc",
   "metadata": {},
   "outputs": [
    {
     "data": {
      "text/plain": [
       "Index(['Date_time', 'Ba_avg', 'Cm_avg', 'Cosphi_avg', 'DCs_avg', 'Db1t_avg',\n",
       "       'Db2t_avg', 'Ds_avg', 'Dst_avg', 'Gb1t_avg', 'Gb2t_avg', 'Git_avg',\n",
       "       'Gost_avg', 'Na_c_avg', 'Nf_avg', 'Nu_avg', 'Ot_avg', 'P_avg', 'Q_avg',\n",
       "       'Rbt_avg', 'Rm_avg', 'Rs_avg', 'Rt_avg', 'S_avg', 'Va_avg', 'Wa_avg',\n",
       "       'Wa_c_avg', 'Ws1_avg', 'Ws2_avg', 'Ws_avg', 'Ya_avg', 'Yt_avg'],\n",
       "      dtype='object')"
      ]
     },
     "execution_count": 16,
     "metadata": {},
     "output_type": "execute_result"
    }
   ],
   "source": [
    "turbine_data.columns"
   ]
  },
  {
   "cell_type": "code",
   "execution_count": 17,
   "id": "82442651",
   "metadata": {},
   "outputs": [
    {
     "data": {
      "text/plain": [
       "Index(['date_time', 'maxtempC', 'mintempC', 'totalSnow_cm', 'sunHour',\n",
       "       'uvIndex', 'moon_illumination', 'moonrise', 'moonset', 'sunrise',\n",
       "       'sunset', 'DewPointC', 'FeelsLikeC', 'HeatIndexC', 'WindChillC',\n",
       "       'WindGustKmph', 'cloudcover', 'humidity', 'precipMM', 'pressure',\n",
       "       'tempC', 'visibility', 'winddirDegree', 'windspeedKmph', 'location',\n",
       "       'Date_time'],\n",
       "      dtype='object')"
      ]
     },
     "execution_count": 17,
     "metadata": {},
     "output_type": "execute_result"
    }
   ],
   "source": [
    "weather_data.columns"
   ]
  },
  {
   "cell_type": "code",
   "execution_count": 18,
   "id": "35c7a570",
   "metadata": {},
   "outputs": [],
   "source": [
    "# transform kmph to mps\n",
    "scaler = MinMaxScaler()\n",
    "weather_data['windspeedKmph'] = weather_data['windspeedKmph']/3.6\n",
    "weather_data['windspeedKmph_scaled'] = scaler.fit_transform(weather_data[['windspeedKmph']])\n",
    "weather_data['tempC_scaled'] = scaler.fit_transform(weather_data[['tempC']])\n",
    "###\n",
    "# Data engineer variables with angles: from angles to radians\n",
    "turbine_data['Wa_avg'] = turbine_data['Wa_avg']*np.pi / 180\n",
    "turbine_data['Ya_avg'] = turbine_data['Ya_avg']*np.pi / 180\n",
    "turbine_data['Ba_avg'] = turbine_data['Ba_avg']*np.pi / 180\n",
    "###\n",
    "# Add datetime information\n",
    "timestamp_s = turbine_data['Date_time'].map(datetime.datetime.timestamp)\n",
    "day = 24*60*60\n",
    "year = (365.2425)*day\n",
    "turbine_data['Day sin'] = np.sin(timestamp_s * (2 * np.pi / day))\n",
    "turbine_data['Day cos'] = np.cos(timestamp_s * (2 * np.pi / day))\n",
    "turbine_data['Year sin'] = np.sin(timestamp_s * (2 * np.pi / year))\n",
    "turbine_data['Year cos'] = np.cos(timestamp_s * (2 * np.pi / year))"
   ]
  },
  {
   "cell_type": "code",
   "execution_count": 19,
   "id": "8b928e2f",
   "metadata": {},
   "outputs": [],
   "source": [
    "# downscale turbine data to remove some outliers\n",
    "turbine_data.set_index('Date_time', inplace=True)\n",
    "turbine_data = turbine_data.resample(rule='1H').mean()"
   ]
  },
  {
   "cell_type": "code",
   "execution_count": 20,
   "id": "326fdd9b",
   "metadata": {},
   "outputs": [],
   "source": [
    "# Merge two datasets\n",
    "data = pd.merge(turbine_data, weather_data, on='Date_time')\n",
    "# drop 'date_time' column\n",
    "data.drop(['date_time'], axis=1, inplace=True)"
   ]
  },
  {
   "cell_type": "code",
   "execution_count": 21,
   "id": "019c2ee0",
   "metadata": {},
   "outputs": [],
   "source": [
    "# extra feature engineering: wind vector (SEE TENSORFLOW TUTORIAL)\n",
    "wa = data['Wa_avg'].values.copy()\n",
    "ws = data['Ws_avg'].values.copy()\n",
    "\n",
    "# calculate the wind x and y components.\n",
    "data['Wx'] = ws*np.cos(wa)\n",
    "data['Wy'] = ws*np.sin(wa)"
   ]
  },
  {
   "cell_type": "code",
   "execution_count": 22,
   "id": "52a365bf",
   "metadata": {},
   "outputs": [
    {
     "data": {
      "text/plain": [
       "Index(['Date_time', 'Ba_avg', 'Cm_avg', 'Cosphi_avg', 'DCs_avg', 'Db1t_avg',\n",
       "       'Db2t_avg', 'Ds_avg', 'Dst_avg', 'Gb1t_avg', 'Gb2t_avg', 'Git_avg',\n",
       "       'Gost_avg', 'Na_c_avg', 'Nf_avg', 'Nu_avg', 'Ot_avg', 'P_avg', 'Q_avg',\n",
       "       'Rbt_avg', 'Rm_avg', 'Rs_avg', 'Rt_avg', 'S_avg', 'Va_avg', 'Wa_avg',\n",
       "       'Wa_c_avg', 'Ws1_avg', 'Ws2_avg', 'Ws_avg', 'Ya_avg', 'Yt_avg',\n",
       "       'Day sin', 'Day cos', 'Year sin', 'Year cos', 'maxtempC', 'mintempC',\n",
       "       'totalSnow_cm', 'sunHour', 'uvIndex', 'moon_illumination', 'moonrise',\n",
       "       'moonset', 'sunrise', 'sunset', 'DewPointC', 'FeelsLikeC', 'HeatIndexC',\n",
       "       'WindChillC', 'WindGustKmph', 'cloudcover', 'humidity', 'precipMM',\n",
       "       'pressure', 'tempC', 'visibility', 'winddirDegree', 'windspeedKmph',\n",
       "       'location', 'windspeedKmph_scaled', 'tempC_scaled', 'Wx', 'Wy'],\n",
       "      dtype='object')"
      ]
     },
     "execution_count": 22,
     "metadata": {},
     "output_type": "execute_result"
    }
   ],
   "source": [
    "data.columns"
   ]
  },
  {
   "cell_type": "code",
   "execution_count": 23,
   "id": "6a53a640",
   "metadata": {},
   "outputs": [],
   "source": [
    "# define directory to save\n",
    "PATH_TO_DIR = '../datasets/after_feature_engineering'\n",
    "\n",
    "# create directory if it does not exists\n",
    "if not os.path.exists(PATH_TO_DIR):\n",
    "    os.makedirs(PATH_TO_DIR)\n",
    "\n",
    "# save\n",
    "PATH_TO_SAVE = os.path.join(PATH_TO_DIR, 'turbine_{}.csv'.format(TURBINE_ID))\n",
    "data.to_csv(PATH_TO_SAVE, sep='\\t', index=False, encoding='utf-8')"
   ]
  }
 ],
 "metadata": {
  "kernelspec": {
   "display_name": "Python 3",
   "language": "python",
   "name": "python3"
  },
  "language_info": {
   "codemirror_mode": {
    "name": "ipython",
    "version": 3
   },
   "file_extension": ".py",
   "mimetype": "text/x-python",
   "name": "python",
   "nbconvert_exporter": "python",
   "pygments_lexer": "ipython3",
   "version": "3.7.10"
  }
 },
 "nbformat": 4,
 "nbformat_minor": 5
}
