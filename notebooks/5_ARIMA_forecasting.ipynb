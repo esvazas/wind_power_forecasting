{
 "cells": [
  {
   "cell_type": "code",
   "execution_count": 1,
   "id": "3abf9dab",
   "metadata": {},
   "outputs": [],
   "source": [
    "import os\n",
    "import pandas as pd\n",
    "\n",
    "from solver import processing\n",
    "from solver import arima"
   ]
  },
  {
   "cell_type": "code",
   "execution_count": 2,
   "id": "ce06a872",
   "metadata": {},
   "outputs": [],
   "source": [
    "### FEATURE PARAMETERS\n",
    "# prediction target\n",
    "feature_predict = 'P_avg'\n",
    "\n",
    "### TRAIN/VAL/TEST SPLIT\n",
    "train_years = [2013, 2014, 2015, 2016]\n",
    "test_years = [2017]\n",
    "\n",
    "### FEATURE ENGINEERING PARAMETERS\n",
    "MA_CONSTANT = 3 # moving average smoothing parameter\n",
    "N_OUT = 1 # forecast horizon"
   ]
  },
  {
   "cell_type": "code",
   "execution_count": 3,
   "id": "f46ef175",
   "metadata": {},
   "outputs": [],
   "source": [
    "TURBINE_ID = 'R80711'\n",
    "DATA_DIR = '../datasets/after_imputation'\n",
    "\n",
    "# define datasets\n",
    "data_link = os.path.join(DATA_DIR, 'turbine_{}_with_imputation.csv'.format(TURBINE_ID))\n",
    "# read datasets\n",
    "dataset = processing.read_dataset(data_link)"
   ]
  },
  {
   "cell_type": "code",
   "execution_count": 4,
   "id": "82eca4ab",
   "metadata": {},
   "outputs": [],
   "source": [
    "# Smooth with Moving Average\n",
    "dataset = processing.smooth(\n",
    "    dataset,\n",
    "    cols_to_smooth=[feature_predict],\n",
    "    ma_constant=MA_CONSTANT)"
   ]
  },
  {
   "cell_type": "code",
   "execution_count": 5,
   "id": "9d2cbf41",
   "metadata": {},
   "outputs": [],
   "source": [
    "# Split data to train and test\n",
    "test_dates = dataset.loc[dataset['Date_time'].dt.year.isin(test_years), 'Date_time'].values\n",
    "train = dataset.loc[dataset['Date_time'].dt.year.isin(train_years), feature_predict].values\n",
    "test = dataset.loc[dataset['Date_time'].dt.year.isin(test_years), feature_predict].values"
   ]
  },
  {
   "cell_type": "code",
   "execution_count": null,
   "id": "44ec3119",
   "metadata": {},
   "outputs": [
    {
     "name": "stderr",
     "output_type": "stream",
     "text": [
      "  8%|▊         | 664/8759 [06:43<1:08:49,  1.96it/s]"
     ]
    }
   ],
   "source": [
    "# define number of samples to base the first prediction\n",
    "train = train[-1200:]\n",
    "\n",
    "# make predictions\n",
    "y_predict, y_true = arima.make_predictions(train, test, N_OUT)"
   ]
  },
  {
   "cell_type": "code",
   "execution_count": null,
   "id": "729275ad",
   "metadata": {},
   "outputs": [],
   "source": [
    "# evaluate predictions\n",
    "mae, rmse, sm = arima.eval_predictions(y_true, y_predict)\n",
    "print(\"ARIMA: Horizon: {} \\t MAE: {}  RMSE: {}  sMAPE: {}\".format(\n",
    "    N_OUT, round(mae, 3), round(rmse, 3), round(sm, 3)))\n",
    "\n",
    "\n",
    "# plot predicitons\n",
    "predictions = pd.Series(y_pre, index=test_dates[:len(y_predict)])\n",
    "true = pd.Series(y_tr, index=test_dates[:len(y_predict)])\n",
    "persistence.plot_predictions(true, predictions, N_OUT)"
   ]
  }
 ],
 "metadata": {
  "kernelspec": {
   "display_name": "Python 3",
   "language": "python",
   "name": "python3"
  },
  "language_info": {
   "codemirror_mode": {
    "name": "ipython",
    "version": 3
   },
   "file_extension": ".py",
   "mimetype": "text/x-python",
   "name": "python",
   "nbconvert_exporter": "python",
   "pygments_lexer": "ipython3",
   "version": "3.7.10"
  }
 },
 "nbformat": 4,
 "nbformat_minor": 5
}
